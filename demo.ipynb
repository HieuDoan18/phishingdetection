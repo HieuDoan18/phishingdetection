{
 "cells": [
  {
   "cell_type": "code",
   "execution_count": 1,
   "metadata": {},
   "outputs": [],
   "source": [
    "from selenium import webdriver\n",
    "from selenium.webdriver.common.by import By\n",
    "from selenium.webdriver.support.ui import WebDriverWait\n",
    "from selenium.webdriver.support import expected_conditions as EC\n",
    "import time\n",
    "from PIL import Image"
   ]
  },
  {
   "cell_type": "code",
   "execution_count": 2,
   "metadata": {},
   "outputs": [],
   "source": [
    "class Web:\n",
    "    def __init__(self, url):\n",
    "        self.url = url\n",
    "\n",
    "    def fullurl(self):\n",
    "        driver = webdriver.Chrome()\n",
    "        wait = WebDriverWait(driver, 10)\n",
    "        with driver:\n",
    "            driver.get(\"https://unshorten.it/\")\n",
    "            driver.find_element(By.ID, \"short-url\").send_keys(self.url)\n",
    "            driver.find_element(By.ID, \"unshorten-button\").click()\n",
    "            time.sleep(10)\n",
    "            #full_url = wait.until(EC.presence_of_element_located((By.ID, \"destination-url\"))).text\n",
    "            full_url = driver.find_element(By.ID, \"destination-url\").find_element(By.CLASS_NAME, \"data\").text\n",
    "            self.full_url = full_url\n",
    "            return full_url\n",
    "\n",
    "    def all_text(self):\n",
    "        driver = webdriver.Chrome()\n",
    "        with driver:\n",
    "            driver.get(self.full_url)\n",
    "            time.sleep(10)\n",
    "            list = driver.find_element(By.XPATH, \"/html/body\").text\n",
    "            return list\n",
    "        \n",
    "    def all_link(self):\n",
    "        driver = webdriver.Chrome()\n",
    "        with driver:\n",
    "            driver.get(self.full_url)\n",
    "            elems = driver.find_elements(By.TAG_NAME, \"a\")\n",
    "            list = []\n",
    "            for elem in elems:\n",
    "                list =  list + [elem.get_attribute(\"href\")]\n",
    "            return list\n",
    "\n",
    "    def capture(self):\n",
    "        driver = webdriver.Chrome()\n",
    "        with driver:\n",
    "            driver.get(self.full_url)\n",
    "            driver.save_screenshot('ss.png')\n",
    "            screenshot = Image.open('ss.png')\n",
    "            screenshot.show()\n"
   ]
  },
  {
   "cell_type": "code",
   "execution_count": 5,
   "metadata": {},
   "outputs": [
    {
     "name": "stdout",
     "output_type": "stream",
     "text": [
      "https://unshorten.it/\n",
      "Home\n",
      "Browser Extensions\n",
      "Explaining Unshorten.It!\n",
      "Contact Us\n",
      "Unshorten.It!\n",
      "Not got a short URL to try? Here's one: http://bit.ly/GVBQJS\n",
      "Copyright © 2024 Unshorten.It!. All Rights Reserved\n",
      "Built with Python and Django.\n",
      "Terms of Service | Privacy Policy | Legacy API Documentation\n",
      "['https://unshorten.it/', 'https://unshorten.it/browser-extensions', 'https://unshorten.it/explaining-unshorten-it', 'https://unshorten.it/contact', 'http://bit.ly/GVBQJS', 'https://www.mywot.com/', 'https://unshorten.it/#', 'https://unshorten.it/', 'https://www.python.org/', 'https://www.djangoproject.com/', 'https://unshorten.it/terms-of-service', 'https://unshorten.it/privacy-policy', 'https://unshorten.it/api/documentation']\n"
     ]
    }
   ],
   "source": [
    "link = \"https://unshorten.it/\"\n",
    "\n",
    "w1 = Web(link)\n",
    "print(w1.fullurl())\n",
    "print(w1.all_text())\n",
    "print(w1.all_link())\n",
    "w1.capture()"
   ]
  }
 ],
 "metadata": {
  "kernelspec": {
   "display_name": "Python 3",
   "language": "python",
   "name": "python3"
  },
  "language_info": {
   "codemirror_mode": {
    "name": "ipython",
    "version": 3
   },
   "file_extension": ".py",
   "mimetype": "text/x-python",
   "name": "python",
   "nbconvert_exporter": "python",
   "pygments_lexer": "ipython3",
   "version": "3.11.7"
  }
 },
 "nbformat": 4,
 "nbformat_minor": 2
}
